{
  "nbformat": 4,
  "nbformat_minor": 0,
  "metadata": {
    "colab": {
      "name": "Rahul youtube project.ipynb",
      "provenance": []
    },
    "kernelspec": {
      "name": "python3",
      "display_name": "Python 3"
    },
    "language_info": {
      "name": "python"
    }
  },
  "cells": [
    {
      "cell_type": "code",
      "metadata": {
        "colab": {
          "base_uri": "https://localhost:8080/"
        },
        "id": "W-_NKRU3Erq2",
        "outputId": "65e55430-150b-4182-90c4-83accef27b6e"
      },
      "source": [
        "!apt-get install -y xvfb # Install X Virtual Frame Buffer\n",
        "import os\n",
        "os.system('Xvfb :1 -screen 0 1600x1200x16  &')    # create virtual display with size 1600x1200 and 16 bit color. Color can be changed to 24 or 8\n",
        "os.environ['DISPLAY']=':1.0'    # tell X clients to use our virtual DISPLAY :1.0.\n"
      ],
      "execution_count": null,
      "outputs": [
        {
          "output_type": "stream",
          "text": [
            "Reading package lists... Done\n",
            "Building dependency tree       \n",
            "Reading state information... Done\n",
            "xvfb is already the newest version (2:1.19.6-1ubuntu4.9).\n",
            "The following package was automatically installed and is no longer required:\n",
            "  libnvidia-common-460\n",
            "Use 'apt autoremove' to remove it.\n",
            "0 upgraded, 0 newly installed, 0 to remove and 40 not upgraded.\n"
          ],
          "name": "stdout"
        }
      ]
    },
    {
      "cell_type": "code",
      "metadata": {
        "colab": {
          "base_uri": "https://localhost:8080/"
        },
        "id": "oqCXhxi9FjVj",
        "outputId": "45e5041d-9d56-4d41-d64a-382d0eb55e65"
      },
      "source": [
        "pip install gensim"
      ],
      "execution_count": null,
      "outputs": [
        {
          "output_type": "stream",
          "text": [
            "Requirement already satisfied: gensim in /usr/local/lib/python3.7/dist-packages (3.6.0)\n",
            "Requirement already satisfied: six>=1.5.0 in /usr/local/lib/python3.7/dist-packages (from gensim) (1.15.0)\n",
            "Requirement already satisfied: numpy>=1.11.3 in /usr/local/lib/python3.7/dist-packages (from gensim) (1.19.5)\n",
            "Requirement already satisfied: smart-open>=1.2.1 in /usr/local/lib/python3.7/dist-packages (from gensim) (5.1.0)\n",
            "Requirement already satisfied: scipy>=0.18.1 in /usr/local/lib/python3.7/dist-packages (from gensim) (1.4.1)\n"
          ],
          "name": "stdout"
        }
      ]
    },
    {
      "cell_type": "code",
      "metadata": {
        "colab": {
          "base_uri": "https://localhost:8080/"
        },
        "id": "YY5U3j1hFq9o",
        "outputId": "4b4802ca-c488-4ceb-cb21-c5f2ffc0169f"
      },
      "source": [
        "pip install sklearn\n"
      ],
      "execution_count": null,
      "outputs": [
        {
          "output_type": "stream",
          "text": [
            "Requirement already satisfied: sklearn in /usr/local/lib/python3.7/dist-packages (0.0)\n",
            "Requirement already satisfied: scikit-learn in /usr/local/lib/python3.7/dist-packages (from sklearn) (0.22.2.post1)\n",
            "Requirement already satisfied: numpy>=1.11.0 in /usr/local/lib/python3.7/dist-packages (from scikit-learn->sklearn) (1.19.5)\n",
            "Requirement already satisfied: joblib>=0.11 in /usr/local/lib/python3.7/dist-packages (from scikit-learn->sklearn) (1.0.1)\n",
            "Requirement already satisfied: scipy>=0.17.0 in /usr/local/lib/python3.7/dist-packages (from scikit-learn->sklearn) (1.4.1)\n"
          ],
          "name": "stdout"
        }
      ]
    },
    {
      "cell_type": "code",
      "metadata": {
        "id": "fMco73y4FyJE"
      },
      "source": [
        "import re\n",
        "import webvtt\n",
        "from gensim.summarization.summarizer import summarize as gensim_based\n",
        "from sklearn.feature_extraction.text import TfidfVectorizer\n",
        "from collections import Counter\n",
        "import nltk\n",
        "\n"
      ],
      "execution_count": null,
      "outputs": []
    },
    {
      "cell_type": "code",
      "metadata": {
        "colab": {
          "base_uri": "https://localhost:8080/"
        },
        "id": "MIgnChpoGA1P",
        "outputId": "3456dea3-7a8f-4ef7-d52e-3c399c0bc73f"
      },
      "source": [
        "pip install tk\n"
      ],
      "execution_count": null,
      "outputs": [
        {
          "output_type": "stream",
          "text": [
            "Requirement already satisfied: tk in /usr/local/lib/python3.7/dist-packages (0.1.0)\n"
          ],
          "name": "stdout"
        }
      ]
    },
    {
      "cell_type": "code",
      "metadata": {
        "id": "GEAEwPLvGs1c"
      },
      "source": [
        "from tkinter import *\n",
        "from tkinter import filedialog\n",
        "import tkinter.font as tkFont\n",
        "import os\n"
      ],
      "execution_count": null,
      "outputs": []
    },
    {
      "cell_type": "code",
      "metadata": {
        "colab": {
          "base_uri": "https://localhost:8080/"
        },
        "id": "e2dsJghcHEzO",
        "outputId": "071b8910-8ba1-428d-bc35-7166c9897daf"
      },
      "source": [
        " pip install youtube-dl\n"
      ],
      "execution_count": null,
      "outputs": [
        {
          "output_type": "stream",
          "text": [
            "Requirement already satisfied: youtube-dl in /usr/local/lib/python3.7/dist-packages (2021.6.6)\n"
          ],
          "name": "stdout"
        }
      ]
    },
    {
      "cell_type": "code",
      "metadata": {
        "colab": {
          "base_uri": "https://localhost:8080/"
        },
        "id": "urLMcHqoHM6v",
        "outputId": "c0c6e30c-0fad-45bf-e8f9-8acc7903f2e8"
      },
      "source": [
        "pip install spacy"
      ],
      "execution_count": null,
      "outputs": [
        {
          "output_type": "stream",
          "text": [
            "Requirement already satisfied: spacy in /usr/local/lib/python3.7/dist-packages (2.2.4)\n",
            "Requirement already satisfied: thinc==7.4.0 in /usr/local/lib/python3.7/dist-packages (from spacy) (7.4.0)\n",
            "Requirement already satisfied: tqdm<5.0.0,>=4.38.0 in /usr/local/lib/python3.7/dist-packages (from spacy) (4.62.0)\n",
            "Requirement already satisfied: wasabi<1.1.0,>=0.4.0 in /usr/local/lib/python3.7/dist-packages (from spacy) (0.8.2)\n",
            "Requirement already satisfied: blis<0.5.0,>=0.4.0 in /usr/local/lib/python3.7/dist-packages (from spacy) (0.4.1)\n",
            "Requirement already satisfied: catalogue<1.1.0,>=0.0.7 in /usr/local/lib/python3.7/dist-packages (from spacy) (1.0.0)\n",
            "Requirement already satisfied: numpy>=1.15.0 in /usr/local/lib/python3.7/dist-packages (from spacy) (1.19.5)\n",
            "Requirement already satisfied: plac<1.2.0,>=0.9.6 in /usr/local/lib/python3.7/dist-packages (from spacy) (1.1.3)\n",
            "Requirement already satisfied: cymem<2.1.0,>=2.0.2 in /usr/local/lib/python3.7/dist-packages (from spacy) (2.0.5)\n",
            "Requirement already satisfied: preshed<3.1.0,>=3.0.2 in /usr/local/lib/python3.7/dist-packages (from spacy) (3.0.5)\n",
            "Requirement already satisfied: setuptools in /usr/local/lib/python3.7/dist-packages (from spacy) (57.4.0)\n",
            "Requirement already satisfied: requests<3.0.0,>=2.13.0 in /usr/local/lib/python3.7/dist-packages (from spacy) (2.23.0)\n",
            "Requirement already satisfied: srsly<1.1.0,>=1.0.2 in /usr/local/lib/python3.7/dist-packages (from spacy) (1.0.5)\n",
            "Requirement already satisfied: murmurhash<1.1.0,>=0.28.0 in /usr/local/lib/python3.7/dist-packages (from spacy) (1.0.5)\n",
            "Requirement already satisfied: importlib-metadata>=0.20 in /usr/local/lib/python3.7/dist-packages (from catalogue<1.1.0,>=0.0.7->spacy) (4.6.4)\n",
            "Requirement already satisfied: typing-extensions>=3.6.4 in /usr/local/lib/python3.7/dist-packages (from importlib-metadata>=0.20->catalogue<1.1.0,>=0.0.7->spacy) (3.7.4.3)\n",
            "Requirement already satisfied: zipp>=0.5 in /usr/local/lib/python3.7/dist-packages (from importlib-metadata>=0.20->catalogue<1.1.0,>=0.0.7->spacy) (3.5.0)\n",
            "Requirement already satisfied: idna<3,>=2.5 in /usr/local/lib/python3.7/dist-packages (from requests<3.0.0,>=2.13.0->spacy) (2.10)\n",
            "Requirement already satisfied: chardet<4,>=3.0.2 in /usr/local/lib/python3.7/dist-packages (from requests<3.0.0,>=2.13.0->spacy) (3.0.4)\n",
            "Requirement already satisfied: certifi>=2017.4.17 in /usr/local/lib/python3.7/dist-packages (from requests<3.0.0,>=2.13.0->spacy) (2021.5.30)\n",
            "Requirement already satisfied: urllib3!=1.25.0,!=1.25.1,<1.26,>=1.21.1 in /usr/local/lib/python3.7/dist-packages (from requests<3.0.0,>=2.13.0->spacy) (1.24.3)\n"
          ],
          "name": "stdout"
        }
      ]
    },
    {
      "cell_type": "code",
      "metadata": {
        "id": "o0YrM69vHRkq"
      },
      "source": [
        "from tkinter import *\n",
        "from tkinter import filedialog\n",
        "import tkinter.font as tkFont\n",
        "import os\n",
        "import youtube_dl\n",
        "import pandas as pd\n",
        "import numpy as np\n",
        "import spacy"
      ],
      "execution_count": null,
      "outputs": []
    },
    {
      "cell_type": "code",
      "metadata": {
        "id": "3cmgIyZWHTFr"
      },
      "source": [
        "nlp = spacy.load(\"en_core_web_sm\")\n"
      ],
      "execution_count": null,
      "outputs": []
    },
    {
      "cell_type": "code",
      "metadata": {
        "id": "JsD3-JO3Hb7W"
      },
      "source": [
        "def get_caption(url):\n",
        "    global video_title\n",
        "    # Using Youtube-dl inside python\n",
        "    ydl_opts = {\n",
        "        'skip_download': True,        # Skipping the download of actual file\n",
        "        'writesubtitles': True,       # Uploaded Subtitles\n",
        "        \"writeautomaticsub\": True,    # Auto generated Subtitles\n",
        "        \"subtitleslangs\": ['en'],     # Language Needed \"en\"-->English\n",
        "        'outtmpl': 'test.%(ext)s',    # Saving downloaded file as 'test.en.vtt'\n",
        "        'nooverwrites': False,        # Overwrite if the file exists\n",
        "        'quiet': True                # Printing progress\n",
        "    }\n",
        "\n",
        "    with youtube_dl.YoutubeDL(ydl_opts) as ydl:\n",
        "        try:\n",
        "            ydl.download([url])\n",
        "            info_dict = ydl.extract_info(url, download=False)\n",
        "            video_title = info_dict.get('title', None)\n",
        "        except:\n",
        "            print(\"Try with a YouTube URL\")\n",
        "    corpus = []\n",
        "    for caption in webvtt.read('test.en.vtt'):\n",
        "        corpus.append(caption.text)\n",
        "    corpus = \"\".join(corpus)\n",
        "    corpus = corpus.replace('\\n', ' ')\n",
        "\n",
        "    return corpus\n"
      ],
      "execution_count": null,
      "outputs": []
    },
    {
      "cell_type": "code",
      "metadata": {
        "id": "OAd0Jqx_HdHQ"
      },
      "source": [
        "def summarizer(text, option, fraction):\n",
        "    # \"Tf-IDF-Based\", \"Frequency-Based\", \"Gensim-Based\"\n",
        "    \n",
        "    frac=fraction\n",
        "    if option == \"TfIdf-Based\":\n",
        "        return tfidf_based(text, frac)\n",
        "    if option == \"Frequency-Based\":\n",
        "        return freq_based(text, frac)\n",
        "    if option == \"Gensim-Based\":\n",
        "        doc=nlp(text)\n",
        "        text=\"\\n\".join([sent.text for sent in doc.sents])\n",
        "        return gensim_based(text=text, ratio=frac)\n",
        "def tfidf_based(msg,fraction=0.3):\n",
        "    # Creating Pipeline\n",
        "    doc=nlp(msg)\n",
        "    \n",
        "    #Sent_tokenize\n",
        "    sents =[sent.text for sent in doc.sents]\n",
        "    \n",
        "    #Number of Sentence User wants\n",
        "    num_sent=int(np.ceil(len(sents)*fraction))\n",
        "    \n",
        "    #Creating tf-idf removing the stop words matching token pattern of only text\n",
        "    tfidf=TfidfVectorizer(stop_words='english',token_pattern='(?ui)\\\\b\\\\w*[a-z]+\\\\w*\\\\b')\n",
        "    X=tfidf.fit_transform(sents)\n",
        "    \n",
        "    #Creating a df with data and tf-idf value\n",
        "    df=pd.DataFrame(data=X.todense(),columns=tfidf.get_feature_names())\n",
        "    indexlist=list(df.sum(axis=1).sort_values(ascending=False).index)\n",
        "#     indexlist=list((df.sum(axis=1)/df[df>0].count(axis=1)).sort_values(ascending=False).index)\n",
        "    \n",
        "    # Subsetting only user needed sentence\n",
        "    needed = indexlist[:num_sent]\n",
        "    \n",
        "    #Sorting the document in order\n",
        "    needed.sort()\n",
        "    \n",
        "    #Appending summary to a list--> convert to string --> return to user\n",
        "    summary=[]\n",
        "    for i in needed:\n",
        "        summary.append(sents[i])\n",
        "    summary=\"\".join(summary)\n",
        "    summary = summary.replace(\"\\n\",'')\n",
        "    return summary"
      ],
      "execution_count": null,
      "outputs": []
    },
    {
      "cell_type": "code",
      "metadata": {
        "id": "ZXOZvgxFHk9P"
      },
      "source": [
        "def freq_based(text, fraction):\n",
        "    # Convert to pipeline\n",
        "    doc = nlp(text)\n",
        "    # Break to sentences\n",
        "    sentence = [sent for sent in doc.sents]\n",
        "    # Number of sentence user wants\n",
        "    numsentence = int(np.ceil(fraction*len(sentence)))\n",
        "\n",
        "    # Tokenizing and filtering key words\n",
        "    words = [word.text.lower()\n",
        "             for word in doc.doc if word.is_alpha and word.is_stop == False]\n",
        "    # Converting to df for calculating weighted frequency\n",
        "    df = pd.DataFrame.from_dict(\n",
        "        data=dict(Counter(words)), orient=\"index\", columns=[\"freq\"])\n",
        "    df[\"wfreq\"] = np.round(df.freq/df.freq.max(), 3)\n",
        "    df = df.drop('freq', axis=1)\n",
        "\n",
        "    # Convert weighted frequency back to dict\n",
        "    wfreq_words = df.wfreq.to_dict()\n",
        "\n",
        "    # Weight each sentence based on their wfreq\n",
        "    sent_weight = []\n",
        "    for sent in sentence:\n",
        "        temp = 0\n",
        "        for word in sent:\n",
        "            if word.text.lower() in wfreq_words:\n",
        "                temp += wfreq_words[word.text.lower()]\n",
        "        sent_weight.append(temp)\n",
        "    wdf = pd.DataFrame(data=np.round(sent_weight, 3), columns=['weight'])\n",
        "    wdf = wdf.sort_values(by='weight', ascending=False)\n",
        "    indexlist = list(wdf.iloc[:numsentence, :].index)\n",
        " # Summary\n",
        "    sumlist = []\n",
        "    for s in indexlist[:5]:\n",
        "        sumlist.append(sentence[s])\n",
        "    summary = ''.join(token.string.strip() for token in sumlist)\n",
        "    return summary\n",
        "\n",
        "\n",
        "##################################################################################\n",
        "# GUI BLOCK\n",
        "root = Tk(baseName=\"Video Summarizer\")\n",
        "root.title(\"Caption Based Video Summarizer\")\n",
        "root.configure(background='#009688')\n",
        "root.geometry(\"600x400+400+200\")\n",
        "root.resizable(0, 0)\n",
        "\n",
        "# Main Title Label\n",
        "title = Label(root, text=\"Video Summarizer\", font=\"bold 26\",\n",
        "              bg=\"#009688\", padx=140, pady=10).grid(row=0, column=0)\n",
        "\n",
        "# URL Label\n",
        "url_label = Label(root, text=\"URL:\", font=\"bold\",\n",
        "                  bg='#009688', justify=\"right\", bd=1)\n",
        "url_label.place(height=50, x=100, y=70)\n",
        "\n",
        "# Model Label\n",
        "model_label = Label(root, text=\"Model:\", font=\"bold\",\n",
        "                    bg='#009688', justify=\"right\", bd=1)\n",
        "model_label.place(height=50, x=90, y=135)\n",
        "\n",
        "# Fraction Label\n",
        "fraction_label = Label(root, text=\"Fraction:\", font=\"bold\",\n",
        "                       bg='#009688', justify=\"right\", bd=1)\n",
        "fraction_label.place(height=50, x=80, y=210)\n",
        "folder_label = Label(root, text=\"Location:\", font=\"bold\",\n",
        "                     bg='#009688', justify=\"right\", bd=1)\n",
        "folder_label.place(height=50, x=75, y=280)\n",
        "\n",
        "# Entry --> String\n",
        "get_url = Entry(root, width=40)\n",
        "get_url.place(width=300, height=30, x=150, y=80)\n",
        "\n",
        "# DropDown\n",
        "options = [\"TfIdf-Based\", \"Frequency-Based\", \"Gensim-Based\"]\n",
        "# Declaring Variable and choosing default one\n",
        "default_option = StringVar(root)\n",
        "default_option.set(options[0])\n",
        "drop = OptionMenu(root, default_option, *options)\n",
        "drop.place(width=200, x=150, y=145)\n",
        "\n",
        "# Entry --> Float\n",
        "get_fraction = Entry(root, width=40)\n",
        "get_fraction.place(width=300, height=30, x=150, y=220)\n",
        "\n",
        "# Ask folder path\n",
        "get_folder = Entry(root, width=40)\n",
        "get_folder.place(width=300, height=30, x=150, y=290)\n",
        "\n",
        "# Button --> Browse\n",
        "folder = StringVar(root)\n"
      ],
      "execution_count": null,
      "outputs": []
    },
    {
      "cell_type": "code",
      "metadata": {
        "id": "9gGdBnK9HdQm"
      },
      "source": [
        "def browse():\n",
        "    global folder\n",
        "    folder = filedialog.askdirectory(initialdir='/')\n",
        "    get_folder.insert(0, folder)\n",
        "\n",
        "\n",
        "browse = Button(root, text=\"Browse\", command=browse)\n",
        "browse.place(height=30, x=475, y=290)\n",
        "\n",
        "\n",
        "# Button Clear --> Reset all settings to default\n",
        "def on_clear():\n",
        "    default_option.set(options[0])\n",
        "    get_url.delete(0, END)\n",
        "    get_folder.delete(0, END)\n",
        "    get_fraction.delete(0, END)\n",
        "\n",
        "\n",
        "clear = Button(root, text=\"Clear\", command=on_clear)\n",
        "clear.place(width=50, x=240, y=350)\n",
        "# Function on Submit"
      ],
      "execution_count": null,
      "outputs": []
    },
    {
      "cell_type": "code",
      "metadata": {
        "id": "13ks-kaeOdz7"
      },
      "source": [
        "def on_submit():\n",
        "    global url, choice, frac, current, folder\n",
        "    url = get_url.get()\n",
        "    choice = default_option.get()\n",
        "    frac = float(get_fraction.get())\n",
        "    current = osdef summarizer(text, option, fraction):\n",
        "    # \"Tf-IDF-Based\", \"Frequency-Based\", \"Gensim-Based\"\n",
        "    \n",
        "    frac=fraction\n",
        "    if option == \"TfIdf-Based\":\n",
        "        return tfidf_based(text, frac)\n",
        "    if option == \"Frequency-Based\":\n",
        "        return freq_based(text, frac)\n",
        "    if option == \"Gensim-Based\":.getcwd()\n",
        "    folder = get_folder.get()\n",
        "    os.chdir(folder)\n",
        "    print(url,choice,frac,folder)\n",
        "    corpus = get_caption(url)\n",
        "    with open(\"corpus.txt\",'w+') as c:\n",
        "        print(corpus,file=c)\n",
        "    # Calling the main summarizer function\n",
        "    summary = summarizer(corpus, choice, frac)\n",
        "    filename = video_title+\" \"+choice+'.txt'\n",
        "    filename = re.sub(r'[\\/:*?<>|]', ' ', filename)\n",
        "    with open(filename, 'w+') as f:\n",
        "        print(summary, file=f)\n",
        "    os.remove(os.getcwd()+'\\\\test.en.vtt')\n",
        "    os.chdir(current)\n",
        "    openpath = Button(root, text=\"Open Folder\",\n",
        "                      command=lambda: os.startfile(get_folder.get()))\n",
        "    openpath.place(x=360, y=350)\n",
        "\n",
        "\n",
        "\n",
        "\n"
      ],
      "execution_count": null,
      "outputs": []
    },
    {
      "cell_type": "code",
      "metadata": {
        "id": "gc2ClJL_O3tj"
      },
      "source": [
        "from tkinter import *\n"
      ],
      "execution_count": null,
      "outputs": []
    },
    {
      "cell_type": "code",
      "metadata": {
        "id": "CP6IHmOYQbAs"
      },
      "source": [
        "# Button -->Submit\n",
        "submit = Button(root, text=\"Submit\", command=on_submit)\n",
        "submit.place(width=50, x=300, y=350)\n",
        "\n",
        "# Button Open Folder to view Saved files\n",
        "\n",
        "root.mainloop()"
      ],
      "execution_count": null,
      "outputs": []
    }
  ]
}